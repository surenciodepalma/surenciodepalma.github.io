{
 "cells": [
  {
   "cell_type": "code",
   "execution_count": 8,
   "metadata": {
    "collapsed": true
   },
   "outputs": [],
   "source": [
    "'''Purpose of this script is to clean and transform the first iteration of the EHS headcount data'''\n",
    "\n",
    "import pandas as pd\n",
    "import numpy as np\n",
    "\n",
    "import re\n",
    "import operator as op"
   ]
  },
  {
   "cell_type": "code",
   "execution_count": 9,
   "metadata": {},
   "outputs": [],
   "source": [
    "# read in EHS/GS property list for property size, function, tier, location\n",
    "prop = pd.read_excel('2017-09-11 EHS - Global Security Records of Interest.xlsx', header=7, skiprows=[0-7])\n",
    "#prop.head()"
   ]
  },
  {
   "cell_type": "code",
   "execution_count": 10,
   "metadata": {},
   "outputs": [
    {
     "data": {
      "text/html": [
       "<div>\n",
       "<style>\n",
       "    .dataframe thead tr:only-child th {\n",
       "        text-align: right;\n",
       "    }\n",
       "\n",
       "    .dataframe thead th {\n",
       "        text-align: left;\n",
       "    }\n",
       "\n",
       "    .dataframe tbody tr th {\n",
       "        vertical-align: top;\n",
       "    }\n",
       "</style>\n",
       "<table border=\"1\" class=\"dataframe\">\n",
       "  <thead>\n",
       "    <tr style=\"text-align: right;\">\n",
       "      <th></th>\n",
       "      <th>Building Country</th>\n",
       "      <th>Tier 1-5</th>\n",
       "      <th>Rentable Area</th>\n",
       "    </tr>\n",
       "  </thead>\n",
       "  <tbody>\n",
       "    <tr>\n",
       "      <th>36</th>\n",
       "      <td>USA</td>\n",
       "      <td>413.0</td>\n",
       "      <td>37156550.2</td>\n",
       "    </tr>\n",
       "    <tr>\n",
       "      <th>20</th>\n",
       "      <td>JPN</td>\n",
       "      <td>8.0</td>\n",
       "      <td>1863361.7</td>\n",
       "    </tr>\n",
       "    <tr>\n",
       "      <th>35</th>\n",
       "      <td>UK</td>\n",
       "      <td>26.0</td>\n",
       "      <td>143834.8</td>\n",
       "    </tr>\n",
       "    <tr>\n",
       "      <th>29</th>\n",
       "      <td>PRI</td>\n",
       "      <td>2.0</td>\n",
       "      <td>116000.0</td>\n",
       "    </tr>\n",
       "    <tr>\n",
       "      <th>14</th>\n",
       "      <td>FRA</td>\n",
       "      <td>12.0</td>\n",
       "      <td>68115.0</td>\n",
       "    </tr>\n",
       "    <tr>\n",
       "      <th>9</th>\n",
       "      <td>DEU</td>\n",
       "      <td>26.0</td>\n",
       "      <td>51333.7</td>\n",
       "    </tr>\n",
       "    <tr>\n",
       "      <th>22</th>\n",
       "      <td>MEX</td>\n",
       "      <td>14.0</td>\n",
       "      <td>33713.6</td>\n",
       "    </tr>\n",
       "    <tr>\n",
       "      <th>4</th>\n",
       "      <td>BRA</td>\n",
       "      <td>14.0</td>\n",
       "      <td>30409.5</td>\n",
       "    </tr>\n",
       "    <tr>\n",
       "      <th>19</th>\n",
       "      <td>ITA</td>\n",
       "      <td>9.0</td>\n",
       "      <td>23422.3</td>\n",
       "    </tr>\n",
       "    <tr>\n",
       "      <th>24</th>\n",
       "      <td>NLD</td>\n",
       "      <td>2.0</td>\n",
       "      <td>21560.1</td>\n",
       "    </tr>\n",
       "    <tr>\n",
       "      <th>1</th>\n",
       "      <td>AUS</td>\n",
       "      <td>9.0</td>\n",
       "      <td>19353.5</td>\n",
       "    </tr>\n",
       "    <tr>\n",
       "      <th>5</th>\n",
       "      <td>CAN</td>\n",
       "      <td>5.0</td>\n",
       "      <td>17850.0</td>\n",
       "    </tr>\n",
       "    <tr>\n",
       "      <th>31</th>\n",
       "      <td>SGP</td>\n",
       "      <td>3.0</td>\n",
       "      <td>17730.2</td>\n",
       "    </tr>\n",
       "    <tr>\n",
       "      <th>7</th>\n",
       "      <td>CHN</td>\n",
       "      <td>11.0</td>\n",
       "      <td>14971.7</td>\n",
       "    </tr>\n",
       "    <tr>\n",
       "      <th>12</th>\n",
       "      <td>ESP</td>\n",
       "      <td>3.0</td>\n",
       "      <td>11269.8</td>\n",
       "    </tr>\n",
       "    <tr>\n",
       "      <th>16</th>\n",
       "      <td>IRL</td>\n",
       "      <td>10.0</td>\n",
       "      <td>10322.0</td>\n",
       "    </tr>\n",
       "    <tr>\n",
       "      <th>30</th>\n",
       "      <td>RUS</td>\n",
       "      <td>9.0</td>\n",
       "      <td>8611.1</td>\n",
       "    </tr>\n",
       "    <tr>\n",
       "      <th>21</th>\n",
       "      <td>KOR</td>\n",
       "      <td>10.0</td>\n",
       "      <td>8486.9</td>\n",
       "    </tr>\n",
       "    <tr>\n",
       "      <th>32</th>\n",
       "      <td>SWE</td>\n",
       "      <td>5.0</td>\n",
       "      <td>6985.8</td>\n",
       "    </tr>\n",
       "    <tr>\n",
       "      <th>15</th>\n",
       "      <td>IND</td>\n",
       "      <td>9.0</td>\n",
       "      <td>6496.2</td>\n",
       "    </tr>\n",
       "    <tr>\n",
       "      <th>6</th>\n",
       "      <td>CHE</td>\n",
       "      <td>5.0</td>\n",
       "      <td>4477.8</td>\n",
       "    </tr>\n",
       "    <tr>\n",
       "      <th>2</th>\n",
       "      <td>AUT</td>\n",
       "      <td>5.0</td>\n",
       "      <td>3883.0</td>\n",
       "    </tr>\n",
       "    <tr>\n",
       "      <th>27</th>\n",
       "      <td>PAK</td>\n",
       "      <td>5.0</td>\n",
       "      <td>3500.0</td>\n",
       "    </tr>\n",
       "    <tr>\n",
       "      <th>8</th>\n",
       "      <td>CUB</td>\n",
       "      <td>5.0</td>\n",
       "      <td>2626.4</td>\n",
       "    </tr>\n",
       "    <tr>\n",
       "      <th>17</th>\n",
       "      <td>IRN</td>\n",
       "      <td>5.0</td>\n",
       "      <td>2583.3</td>\n",
       "    </tr>\n",
       "    <tr>\n",
       "      <th>11</th>\n",
       "      <td>EGY</td>\n",
       "      <td>5.0</td>\n",
       "      <td>2475.7</td>\n",
       "    </tr>\n",
       "    <tr>\n",
       "      <th>25</th>\n",
       "      <td>NOR</td>\n",
       "      <td>5.0</td>\n",
       "      <td>1453.1</td>\n",
       "    </tr>\n",
       "    <tr>\n",
       "      <th>3</th>\n",
       "      <td>BEL</td>\n",
       "      <td>5.0</td>\n",
       "      <td>1334.7</td>\n",
       "    </tr>\n",
       "    <tr>\n",
       "      <th>33</th>\n",
       "      <td>THA</td>\n",
       "      <td>5.0</td>\n",
       "      <td>818.1</td>\n",
       "    </tr>\n",
       "    <tr>\n",
       "      <th>0</th>\n",
       "      <td>ARE</td>\n",
       "      <td>5.0</td>\n",
       "      <td>793.2</td>\n",
       "    </tr>\n",
       "    <tr>\n",
       "      <th>37</th>\n",
       "      <td>ZAF</td>\n",
       "      <td>5.0</td>\n",
       "      <td>652.3</td>\n",
       "    </tr>\n",
       "    <tr>\n",
       "      <th>13</th>\n",
       "      <td>FIN</td>\n",
       "      <td>5.0</td>\n",
       "      <td>204.5</td>\n",
       "    </tr>\n",
       "    <tr>\n",
       "      <th>23</th>\n",
       "      <td>MY</td>\n",
       "      <td>5.0</td>\n",
       "      <td>195.0</td>\n",
       "    </tr>\n",
       "    <tr>\n",
       "      <th>28</th>\n",
       "      <td>PHL</td>\n",
       "      <td>5.0</td>\n",
       "      <td>138.9</td>\n",
       "    </tr>\n",
       "    <tr>\n",
       "      <th>26</th>\n",
       "      <td>NZL</td>\n",
       "      <td>10.0</td>\n",
       "      <td>2.0</td>\n",
       "    </tr>\n",
       "    <tr>\n",
       "      <th>18</th>\n",
       "      <td>ISR</td>\n",
       "      <td>5.0</td>\n",
       "      <td>1.0</td>\n",
       "    </tr>\n",
       "    <tr>\n",
       "      <th>34</th>\n",
       "      <td>TR</td>\n",
       "      <td>5.0</td>\n",
       "      <td>1.0</td>\n",
       "    </tr>\n",
       "    <tr>\n",
       "      <th>10</th>\n",
       "      <td>DNK</td>\n",
       "      <td>5.0</td>\n",
       "      <td>1.0</td>\n",
       "    </tr>\n",
       "  </tbody>\n",
       "</table>\n",
       "</div>"
      ],
      "text/plain": [
       "   Building Country  Tier 1-5  Rentable Area\n",
       "36              USA     413.0     37156550.2\n",
       "20              JPN       8.0      1863361.7\n",
       "35               UK      26.0       143834.8\n",
       "29              PRI       2.0       116000.0\n",
       "14              FRA      12.0        68115.0\n",
       "9               DEU      26.0        51333.7\n",
       "22              MEX      14.0        33713.6\n",
       "4               BRA      14.0        30409.5\n",
       "19              ITA       9.0        23422.3\n",
       "24              NLD       2.0        21560.1\n",
       "1               AUS       9.0        19353.5\n",
       "5               CAN       5.0        17850.0\n",
       "31              SGP       3.0        17730.2\n",
       "7               CHN      11.0        14971.7\n",
       "12              ESP       3.0        11269.8\n",
       "16              IRL      10.0        10322.0\n",
       "30              RUS       9.0         8611.1\n",
       "21              KOR      10.0         8486.9\n",
       "32              SWE       5.0         6985.8\n",
       "15              IND       9.0         6496.2\n",
       "6               CHE       5.0         4477.8\n",
       "2               AUT       5.0         3883.0\n",
       "27              PAK       5.0         3500.0\n",
       "8               CUB       5.0         2626.4\n",
       "17              IRN       5.0         2583.3\n",
       "11              EGY       5.0         2475.7\n",
       "25              NOR       5.0         1453.1\n",
       "3               BEL       5.0         1334.7\n",
       "33              THA       5.0          818.1\n",
       "0               ARE       5.0          793.2\n",
       "37              ZAF       5.0          652.3\n",
       "13              FIN       5.0          204.5\n",
       "23               MY       5.0          195.0\n",
       "28              PHL       5.0          138.9\n",
       "26              NZL      10.0            2.0\n",
       "18              ISR       5.0            1.0\n",
       "34               TR       5.0            1.0\n",
       "10              DNK       5.0            1.0"
      ]
     },
     "execution_count": 10,
     "metadata": {},
     "output_type": "execute_result"
    }
   ],
   "source": [
    "# get building area by country\n",
    "group1 = prop.groupby(['Building Country']).sum().round(1).reset_index()\n",
    "group1.sort_values('Rentable Area', ascending= False)"
   ]
  },
  {
   "cell_type": "code",
   "execution_count": 11,
   "metadata": {},
   "outputs": [
    {
     "data": {
      "text/html": [
       "<div>\n",
       "<style>\n",
       "    .dataframe thead tr:only-child th {\n",
       "        text-align: right;\n",
       "    }\n",
       "\n",
       "    .dataframe thead th {\n",
       "        text-align: left;\n",
       "    }\n",
       "\n",
       "    .dataframe tbody tr th {\n",
       "        vertical-align: top;\n",
       "    }\n",
       "</style>\n",
       "<table border=\"1\" class=\"dataframe\">\n",
       "  <thead>\n",
       "    <tr style=\"text-align: right;\">\n",
       "      <th></th>\n",
       "      <th>Country</th>\n",
       "      <th>NC4</th>\n",
       "      <th>Control Risks</th>\n",
       "      <th>Foreign Affairs Canada</th>\n",
       "      <th>FCO UK</th>\n",
       "      <th>State  Department</th>\n",
       "      <th>NBCU</th>\n",
       "      <th>Tier</th>\n",
       "      <th>Comments</th>\n",
       "    </tr>\n",
       "  </thead>\n",
       "  <tbody>\n",
       "    <tr>\n",
       "      <th>0</th>\n",
       "      <td>Afghanistan</td>\n",
       "      <td>Extreme</td>\n",
       "      <td>Extreme</td>\n",
       "      <td>Extreme</td>\n",
       "      <td>Extreme</td>\n",
       "      <td>Extreme</td>\n",
       "      <td>High</td>\n",
       "      <td>Tier 1 (All)</td>\n",
       "      <td>Tier 1 (All) As of 21 March, The Department of...</td>\n",
       "    </tr>\n",
       "    <tr>\n",
       "      <th>1</th>\n",
       "      <td>Albania</td>\n",
       "      <td>Medium</td>\n",
       "      <td>Low</td>\n",
       "      <td>Low</td>\n",
       "      <td>Medium</td>\n",
       "      <td>Medium</td>\n",
       "      <td>Medium</td>\n",
       "      <td>NaN</td>\n",
       "      <td>NaN</td>\n",
       "    </tr>\n",
       "    <tr>\n",
       "      <th>2</th>\n",
       "      <td>Algeria</td>\n",
       "      <td>High</td>\n",
       "      <td>High</td>\n",
       "      <td>High</td>\n",
       "      <td>High</td>\n",
       "      <td>High</td>\n",
       "      <td>High</td>\n",
       "      <td>Tier 1 (Outside of Algiers)\\n</td>\n",
       "      <td>Tier 1 (Outside of Algiers) As of 13 December,...</td>\n",
       "    </tr>\n",
       "    <tr>\n",
       "      <th>3</th>\n",
       "      <td>American Samoa</td>\n",
       "      <td>NaN</td>\n",
       "      <td>Low</td>\n",
       "      <td>Low</td>\n",
       "      <td>Low</td>\n",
       "      <td>NaN</td>\n",
       "      <td>Low</td>\n",
       "      <td>NaN</td>\n",
       "      <td>NaN</td>\n",
       "    </tr>\n",
       "    <tr>\n",
       "      <th>4</th>\n",
       "      <td>Andorra</td>\n",
       "      <td>NaN</td>\n",
       "      <td>Low</td>\n",
       "      <td>Low</td>\n",
       "      <td>NaN</td>\n",
       "      <td>NaN</td>\n",
       "      <td>Low</td>\n",
       "      <td>NaN</td>\n",
       "      <td>NaN</td>\n",
       "    </tr>\n",
       "  </tbody>\n",
       "</table>\n",
       "</div>"
      ],
      "text/plain": [
       "          Country      NC4 Control Risks Foreign Affairs Canada   FCO UK  \\\n",
       "0     Afghanistan  Extreme       Extreme                Extreme  Extreme   \n",
       "1         Albania   Medium           Low                    Low   Medium   \n",
       "2         Algeria     High          High                   High     High   \n",
       "3  American Samoa      NaN           Low                    Low      Low   \n",
       "4         Andorra      NaN           Low                    Low      NaN   \n",
       "\n",
       "  State  Department    NBCU                           Tier  \\\n",
       "0           Extreme    High                   Tier 1 (All)   \n",
       "1            Medium  Medium                            NaN   \n",
       "2              High    High  Tier 1 (Outside of Algiers)\\n   \n",
       "3               NaN     Low                            NaN   \n",
       "4               NaN     Low                            NaN   \n",
       "\n",
       "                                            Comments  \n",
       "0  Tier 1 (All) As of 21 March, The Department of...  \n",
       "1                                                NaN  \n",
       "2  Tier 1 (Outside of Algiers) As of 13 December,...  \n",
       "3                                                NaN  \n",
       "4                                                NaN  "
      ]
     },
     "execution_count": 11,
     "metadata": {},
     "output_type": "execute_result"
    }
   ],
   "source": [
    "risk = pd.read_excel(\"Country Risk Ratings June 2017.xlsx\")\n",
    "risk.head()"
   ]
  },
  {
   "cell_type": "code",
   "execution_count": 12,
   "metadata": {},
   "outputs": [
    {
     "data": {
      "text/html": [
       "<div>\n",
       "<style>\n",
       "    .dataframe thead tr:only-child th {\n",
       "        text-align: right;\n",
       "    }\n",
       "\n",
       "    .dataframe thead th {\n",
       "        text-align: left;\n",
       "    }\n",
       "\n",
       "    .dataframe tbody tr th {\n",
       "        vertical-align: top;\n",
       "    }\n",
       "</style>\n",
       "<table border=\"1\" class=\"dataframe\">\n",
       "  <thead>\n",
       "    <tr style=\"text-align: right;\">\n",
       "      <th></th>\n",
       "      <th>Country</th>\n",
       "      <th>State  Department</th>\n",
       "      <th>NBCU</th>\n",
       "    </tr>\n",
       "  </thead>\n",
       "  <tbody>\n",
       "    <tr>\n",
       "      <th>0</th>\n",
       "      <td>Afghanistan</td>\n",
       "      <td>Extreme</td>\n",
       "      <td>High</td>\n",
       "    </tr>\n",
       "    <tr>\n",
       "      <th>1</th>\n",
       "      <td>Albania</td>\n",
       "      <td>Medium</td>\n",
       "      <td>Medium</td>\n",
       "    </tr>\n",
       "    <tr>\n",
       "      <th>2</th>\n",
       "      <td>Algeria</td>\n",
       "      <td>High</td>\n",
       "      <td>High</td>\n",
       "    </tr>\n",
       "    <tr>\n",
       "      <th>3</th>\n",
       "      <td>American Samoa</td>\n",
       "      <td>NaN</td>\n",
       "      <td>Low</td>\n",
       "    </tr>\n",
       "    <tr>\n",
       "      <th>4</th>\n",
       "      <td>Andorra</td>\n",
       "      <td>NaN</td>\n",
       "      <td>Low</td>\n",
       "    </tr>\n",
       "  </tbody>\n",
       "</table>\n",
       "</div>"
      ],
      "text/plain": [
       "          Country State  Department    NBCU\n",
       "0     Afghanistan           Extreme    High\n",
       "1         Albania            Medium  Medium\n",
       "2         Algeria              High    High\n",
       "3  American Samoa               NaN     Low\n",
       "4         Andorra               NaN     Low"
      ]
     },
     "execution_count": 12,
     "metadata": {},
     "output_type": "execute_result"
    }
   ],
   "source": [
    "risk = risk.drop(['NC4','Control Risks','Foreign Affairs Canada','FCO UK','Tier','Comments'],axis=1)\n",
    "risk.head()"
   ]
  },
  {
   "cell_type": "code",
   "execution_count": 13,
   "metadata": {},
   "outputs": [
    {
     "data": {
      "text/html": [
       "<div>\n",
       "<style>\n",
       "    .dataframe thead tr:only-child th {\n",
       "        text-align: right;\n",
       "    }\n",
       "\n",
       "    .dataframe thead th {\n",
       "        text-align: left;\n",
       "    }\n",
       "\n",
       "    .dataframe tbody tr th {\n",
       "        vertical-align: top;\n",
       "    }\n",
       "</style>\n",
       "<table border=\"1\" class=\"dataframe\">\n",
       "  <thead>\n",
       "    <tr style=\"text-align: right;\">\n",
       "      <th></th>\n",
       "      <th>Country</th>\n",
       "      <th>Alpha2</th>\n",
       "      <th>CountryAbb</th>\n",
       "      <th>NumCode</th>\n",
       "    </tr>\n",
       "  </thead>\n",
       "  <tbody>\n",
       "    <tr>\n",
       "      <th>0</th>\n",
       "      <td>Aland Islands</td>\n",
       "      <td>AX</td>\n",
       "      <td>ALA</td>\n",
       "      <td>248</td>\n",
       "    </tr>\n",
       "    <tr>\n",
       "      <th>1</th>\n",
       "      <td>Albania</td>\n",
       "      <td>AL</td>\n",
       "      <td>ALB</td>\n",
       "      <td>8</td>\n",
       "    </tr>\n",
       "    <tr>\n",
       "      <th>2</th>\n",
       "      <td>Algeria</td>\n",
       "      <td>DZ</td>\n",
       "      <td>DZA</td>\n",
       "      <td>12</td>\n",
       "    </tr>\n",
       "    <tr>\n",
       "      <th>3</th>\n",
       "      <td>American Samoa</td>\n",
       "      <td>AS</td>\n",
       "      <td>ASM</td>\n",
       "      <td>16</td>\n",
       "    </tr>\n",
       "    <tr>\n",
       "      <th>4</th>\n",
       "      <td>Andorra</td>\n",
       "      <td>AD</td>\n",
       "      <td>AND</td>\n",
       "      <td>20</td>\n",
       "    </tr>\n",
       "  </tbody>\n",
       "</table>\n",
       "</div>"
      ],
      "text/plain": [
       "          Country Alpha2 CountryAbb  NumCode\n",
       "0   Aland Islands     AX        ALA      248\n",
       "1         Albania     AL        ALB        8\n",
       "2         Algeria     DZ        DZA       12\n",
       "3  American Samoa     AS        ASM       16\n",
       "4         Andorra     AD        AND       20"
      ]
     },
     "execution_count": 13,
     "metadata": {},
     "output_type": "execute_result"
    }
   ],
   "source": [
    "# read in dataframe of country and abbreviation\n",
    "country = pd.read_excel('country_abb.xlsx', skiprows=[1], names=('Country','Alpha2','CountryAbb','NumCode'))\n",
    "country.head()"
   ]
  },
  {
   "cell_type": "code",
   "execution_count": 14,
   "metadata": {},
   "outputs": [
    {
     "data": {
      "text/html": [
       "<div>\n",
       "<style>\n",
       "    .dataframe thead tr:only-child th {\n",
       "        text-align: right;\n",
       "    }\n",
       "\n",
       "    .dataframe thead th {\n",
       "        text-align: left;\n",
       "    }\n",
       "\n",
       "    .dataframe tbody tr th {\n",
       "        vertical-align: top;\n",
       "    }\n",
       "</style>\n",
       "<table border=\"1\" class=\"dataframe\">\n",
       "  <thead>\n",
       "    <tr style=\"text-align: right;\">\n",
       "      <th></th>\n",
       "      <th>Country</th>\n",
       "      <th>CountryAbb</th>\n",
       "    </tr>\n",
       "  </thead>\n",
       "  <tbody>\n",
       "    <tr>\n",
       "      <th>0</th>\n",
       "      <td>Aland Islands</td>\n",
       "      <td>ALA</td>\n",
       "    </tr>\n",
       "    <tr>\n",
       "      <th>1</th>\n",
       "      <td>Albania</td>\n",
       "      <td>ALB</td>\n",
       "    </tr>\n",
       "    <tr>\n",
       "      <th>2</th>\n",
       "      <td>Algeria</td>\n",
       "      <td>DZA</td>\n",
       "    </tr>\n",
       "    <tr>\n",
       "      <th>3</th>\n",
       "      <td>American Samoa</td>\n",
       "      <td>ASM</td>\n",
       "    </tr>\n",
       "    <tr>\n",
       "      <th>4</th>\n",
       "      <td>Andorra</td>\n",
       "      <td>AND</td>\n",
       "    </tr>\n",
       "  </tbody>\n",
       "</table>\n",
       "</div>"
      ],
      "text/plain": [
       "          Country CountryAbb\n",
       "0   Aland Islands        ALA\n",
       "1         Albania        ALB\n",
       "2         Algeria        DZA\n",
       "3  American Samoa        ASM\n",
       "4         Andorra        AND"
      ]
     },
     "execution_count": 14,
     "metadata": {},
     "output_type": "execute_result"
    }
   ],
   "source": [
    "country = country.drop(['Alpha2','NumCode'],axis=1)\n",
    "country.head()"
   ]
  },
  {
   "cell_type": "code",
   "execution_count": 15,
   "metadata": {
    "collapsed": true
   },
   "outputs": [],
   "source": [
    "risk = risk.join(country.set_index(\"Country\"), on= \"Country\")"
   ]
  },
  {
   "cell_type": "code",
   "execution_count": 16,
   "metadata": {
    "collapsed": true
   },
   "outputs": [],
   "source": [
    "risk = risk.CountryAbb.str.replace('GBR','UK')"
   ]
  },
  {
   "cell_type": "code",
   "execution_count": 17,
   "metadata": {},
   "outputs": [],
   "source": [
    "risk = risk.rename(columns={'xCorp':'xCorp_RiskCategory'})\n",
    "#risk.head()"
   ]
  },
  {
   "cell_type": "code",
   "execution_count": 18,
   "metadata": {},
   "outputs": [],
   "source": [
    "# rename column Building Country to CountryAbb\n",
    "prop = prop.rename(columns={'Building Country':'CountryAbb','NBCU':'NBC_RiskCategory'})\n",
    "#prop.head()"
   ]
  },
  {
   "cell_type": "code",
   "execution_count": 20,
   "metadata": {},
   "outputs": [
    {
     "ename": "AttributeError",
     "evalue": "'Series' object has no attribute 'set_index'",
     "output_type": "error",
     "traceback": [
      "\u001b[0;31m---------------------------------------------------------------------------\u001b[0m",
      "\u001b[0;31mAttributeError\u001b[0m                            Traceback (most recent call last)",
      "\u001b[0;32m<ipython-input-20-6bfa33b002a6>\u001b[0m in \u001b[0;36m<module>\u001b[0;34m()\u001b[0m\n\u001b[0;32m----> 1\u001b[0;31m \u001b[0mprop\u001b[0m \u001b[0;34m=\u001b[0m \u001b[0mprop\u001b[0m\u001b[0;34m.\u001b[0m\u001b[0mjoin\u001b[0m\u001b[0;34m(\u001b[0m\u001b[0mrisk\u001b[0m\u001b[0;34m.\u001b[0m\u001b[0mset_index\u001b[0m\u001b[0;34m(\u001b[0m\u001b[0;34m\"CountryAbb\"\u001b[0m\u001b[0;34m)\u001b[0m\u001b[0;34m,\u001b[0m\u001b[0mon\u001b[0m\u001b[0;34m=\u001b[0m\u001b[0;34m'CountryAbb'\u001b[0m\u001b[0;34m)\u001b[0m\u001b[0;34m\u001b[0m\u001b[0m\n\u001b[0m",
      "\u001b[0;32m/Users/a206536808/anaconda2/lib/python2.7/site-packages/pandas/core/generic.pyc\u001b[0m in \u001b[0;36m__getattr__\u001b[0;34m(self, name)\u001b[0m\n\u001b[1;32m   3079\u001b[0m             \u001b[0;32mif\u001b[0m \u001b[0mname\u001b[0m \u001b[0;32min\u001b[0m \u001b[0mself\u001b[0m\u001b[0;34m.\u001b[0m\u001b[0m_info_axis\u001b[0m\u001b[0;34m:\u001b[0m\u001b[0;34m\u001b[0m\u001b[0m\n\u001b[1;32m   3080\u001b[0m                 \u001b[0;32mreturn\u001b[0m \u001b[0mself\u001b[0m\u001b[0;34m[\u001b[0m\u001b[0mname\u001b[0m\u001b[0;34m]\u001b[0m\u001b[0;34m\u001b[0m\u001b[0m\n\u001b[0;32m-> 3081\u001b[0;31m             \u001b[0;32mreturn\u001b[0m \u001b[0mobject\u001b[0m\u001b[0;34m.\u001b[0m\u001b[0m__getattribute__\u001b[0m\u001b[0;34m(\u001b[0m\u001b[0mself\u001b[0m\u001b[0;34m,\u001b[0m \u001b[0mname\u001b[0m\u001b[0;34m)\u001b[0m\u001b[0;34m\u001b[0m\u001b[0m\n\u001b[0m\u001b[1;32m   3082\u001b[0m \u001b[0;34m\u001b[0m\u001b[0m\n\u001b[1;32m   3083\u001b[0m     \u001b[0;32mdef\u001b[0m \u001b[0m__setattr__\u001b[0m\u001b[0;34m(\u001b[0m\u001b[0mself\u001b[0m\u001b[0;34m,\u001b[0m \u001b[0mname\u001b[0m\u001b[0;34m,\u001b[0m \u001b[0mvalue\u001b[0m\u001b[0;34m)\u001b[0m\u001b[0;34m:\u001b[0m\u001b[0;34m\u001b[0m\u001b[0m\n",
      "\u001b[0;31mAttributeError\u001b[0m: 'Series' object has no attribute 'set_index'"
     ]
    }
   ],
   "source": [
    "prop = prop.join(risk.set_index(\"CountryAbb\"),on='CountryAbb')"
   ]
  },
  {
   "cell_type": "code",
   "execution_count": 19,
   "metadata": {},
   "outputs": [],
   "source": [
    "#prop.head()"
   ]
  },
  {
   "cell_type": "code",
   "execution_count": 32,
   "metadata": {},
   "outputs": [
    {
     "data": {
      "text/plain": [
       "File Client Id              56\n",
       "Division                   140\n",
       "Region                     140\n",
       "System                     140\n",
       "EHS/Security Reporting     140\n",
       "Security Contact           151\n",
       "Tier 1-5                   151\n",
       "Country Region             140\n",
       "Portfolio HUB              140\n",
       "CountryAbb                 140\n",
       "Building State/Province    140\n",
       "Building City              140\n",
       "Building Address 1         140\n",
       "Premises Description       242\n",
       "Building Postal Code       140\n",
       "Current Expiration Date    159\n",
       "Rentable Area              140\n",
       "Lease/Owned                140\n",
       "Expense or Income          140\n",
       "Lease Space Use            140\n",
       "Client Position            140\n",
       "Landlord Name              145\n",
       "Tenant Name                164\n",
       "Country                      5\n",
       "State  Department          133\n",
       "NBC_RiskCategory             5\n",
       "dtype: int64"
      ]
     },
     "execution_count": 32,
     "metadata": {},
     "output_type": "execute_result"
    }
   ],
   "source": [
    "# count of null rows per column\n",
    "prop.isnull().sum()"
   ]
  },
  {
   "cell_type": "code",
   "execution_count": 23,
   "metadata": {
    "collapsed": true
   },
   "outputs": [],
   "source": [
    "prop.to_excel('Incident_Model_data_100317.xlsx',index=False)"
   ]
  },
  {
   "cell_type": "code",
   "execution_count": 24,
   "metadata": {
    "scrolled": true
   },
   "outputs": [],
   "source": [
    "prop = pd.read_excel('Incident_Model_data_100317.xlsx')\n",
    "#prop.head()"
   ]
  },
  {
   "cell_type": "code",
   "execution_count": 25,
   "metadata": {},
   "outputs": [
    {
     "ename": "IOError",
     "evalue": "[Errno 2] No such file or directory: 'xCorp-OctHC 2017.xlsx'",
     "output_type": "error",
     "traceback": [
      "\u001b[0;31m---------------------------------------------------------------------------\u001b[0m",
      "\u001b[0;31mIOError\u001b[0m                                   Traceback (most recent call last)",
      "\u001b[0;32m<ipython-input-25-28cbf49542b2>\u001b[0m in \u001b[0;36m<module>\u001b[0;34m()\u001b[0m\n\u001b[0;32m----> 1\u001b[0;31m \u001b[0mhr\u001b[0m \u001b[0;34m=\u001b[0m \u001b[0mpd\u001b[0m\u001b[0;34m.\u001b[0m\u001b[0mread_excel\u001b[0m\u001b[0;34m(\u001b[0m\u001b[0;34m\"xCorp-OctHC 2017.xlsx\"\u001b[0m\u001b[0;34m)\u001b[0m\u001b[0;34m\u001b[0m\u001b[0m\n\u001b[0m\u001b[1;32m      2\u001b[0m \u001b[0;31m#hr.head()\u001b[0m\u001b[0;34m\u001b[0m\u001b[0;34m\u001b[0m\u001b[0m\n",
      "\u001b[0;32m/Users/a206536808/anaconda2/lib/python2.7/site-packages/pandas/io/excel.pyc\u001b[0m in \u001b[0;36mread_excel\u001b[0;34m(io, sheetname, header, skiprows, skip_footer, index_col, names, parse_cols, parse_dates, date_parser, na_values, thousands, convert_float, has_index_names, converters, dtype, true_values, false_values, engine, squeeze, **kwds)\u001b[0m\n\u001b[1;32m    201\u001b[0m \u001b[0;34m\u001b[0m\u001b[0m\n\u001b[1;32m    202\u001b[0m     \u001b[0;32mif\u001b[0m \u001b[0;32mnot\u001b[0m \u001b[0misinstance\u001b[0m\u001b[0;34m(\u001b[0m\u001b[0mio\u001b[0m\u001b[0;34m,\u001b[0m \u001b[0mExcelFile\u001b[0m\u001b[0;34m)\u001b[0m\u001b[0;34m:\u001b[0m\u001b[0;34m\u001b[0m\u001b[0m\n\u001b[0;32m--> 203\u001b[0;31m         \u001b[0mio\u001b[0m \u001b[0;34m=\u001b[0m \u001b[0mExcelFile\u001b[0m\u001b[0;34m(\u001b[0m\u001b[0mio\u001b[0m\u001b[0;34m,\u001b[0m \u001b[0mengine\u001b[0m\u001b[0;34m=\u001b[0m\u001b[0mengine\u001b[0m\u001b[0;34m)\u001b[0m\u001b[0;34m\u001b[0m\u001b[0m\n\u001b[0m\u001b[1;32m    204\u001b[0m \u001b[0;34m\u001b[0m\u001b[0m\n\u001b[1;32m    205\u001b[0m     return io._parse_excel(\n",
      "\u001b[0;32m/Users/a206536808/anaconda2/lib/python2.7/site-packages/pandas/io/excel.pyc\u001b[0m in \u001b[0;36m__init__\u001b[0;34m(self, io, **kwds)\u001b[0m\n\u001b[1;32m    258\u001b[0m             \u001b[0mself\u001b[0m\u001b[0;34m.\u001b[0m\u001b[0mbook\u001b[0m \u001b[0;34m=\u001b[0m \u001b[0mxlrd\u001b[0m\u001b[0;34m.\u001b[0m\u001b[0mopen_workbook\u001b[0m\u001b[0;34m(\u001b[0m\u001b[0mfile_contents\u001b[0m\u001b[0;34m=\u001b[0m\u001b[0mdata\u001b[0m\u001b[0;34m)\u001b[0m\u001b[0;34m\u001b[0m\u001b[0m\n\u001b[1;32m    259\u001b[0m         \u001b[0;32melif\u001b[0m \u001b[0misinstance\u001b[0m\u001b[0;34m(\u001b[0m\u001b[0mio\u001b[0m\u001b[0;34m,\u001b[0m \u001b[0mcompat\u001b[0m\u001b[0;34m.\u001b[0m\u001b[0mstring_types\u001b[0m\u001b[0;34m)\u001b[0m\u001b[0;34m:\u001b[0m\u001b[0;34m\u001b[0m\u001b[0m\n\u001b[0;32m--> 260\u001b[0;31m             \u001b[0mself\u001b[0m\u001b[0;34m.\u001b[0m\u001b[0mbook\u001b[0m \u001b[0;34m=\u001b[0m \u001b[0mxlrd\u001b[0m\u001b[0;34m.\u001b[0m\u001b[0mopen_workbook\u001b[0m\u001b[0;34m(\u001b[0m\u001b[0mio\u001b[0m\u001b[0;34m)\u001b[0m\u001b[0;34m\u001b[0m\u001b[0m\n\u001b[0m\u001b[1;32m    261\u001b[0m         \u001b[0;32melse\u001b[0m\u001b[0;34m:\u001b[0m\u001b[0;34m\u001b[0m\u001b[0m\n\u001b[1;32m    262\u001b[0m             raise ValueError('Must explicitly set engine if not passing in'\n",
      "\u001b[0;32m/Users/a206536808/anaconda2/lib/python2.7/site-packages/xlrd/__init__.pyc\u001b[0m in \u001b[0;36mopen_workbook\u001b[0;34m(filename, logfile, verbosity, use_mmap, file_contents, encoding_override, formatting_info, on_demand, ragged_rows)\u001b[0m\n\u001b[1;32m    114\u001b[0m         \u001b[0mpeek\u001b[0m \u001b[0;34m=\u001b[0m \u001b[0mfile_contents\u001b[0m\u001b[0;34m[\u001b[0m\u001b[0;34m:\u001b[0m\u001b[0mpeeksz\u001b[0m\u001b[0;34m]\u001b[0m\u001b[0;34m\u001b[0m\u001b[0m\n\u001b[1;32m    115\u001b[0m     \u001b[0;32melse\u001b[0m\u001b[0;34m:\u001b[0m\u001b[0;34m\u001b[0m\u001b[0m\n\u001b[0;32m--> 116\u001b[0;31m         \u001b[0;32mwith\u001b[0m \u001b[0mopen\u001b[0m\u001b[0;34m(\u001b[0m\u001b[0mfilename\u001b[0m\u001b[0;34m,\u001b[0m \u001b[0;34m\"rb\"\u001b[0m\u001b[0;34m)\u001b[0m \u001b[0;32mas\u001b[0m \u001b[0mf\u001b[0m\u001b[0;34m:\u001b[0m\u001b[0;34m\u001b[0m\u001b[0m\n\u001b[0m\u001b[1;32m    117\u001b[0m             \u001b[0mpeek\u001b[0m \u001b[0;34m=\u001b[0m \u001b[0mf\u001b[0m\u001b[0;34m.\u001b[0m\u001b[0mread\u001b[0m\u001b[0;34m(\u001b[0m\u001b[0mpeeksz\u001b[0m\u001b[0;34m)\u001b[0m\u001b[0;34m\u001b[0m\u001b[0m\n\u001b[1;32m    118\u001b[0m     \u001b[0;32mif\u001b[0m \u001b[0mpeek\u001b[0m \u001b[0;34m==\u001b[0m \u001b[0;34mb\"PK\\x03\\x04\"\u001b[0m\u001b[0;34m:\u001b[0m \u001b[0;31m# a ZIP file\u001b[0m\u001b[0;34m\u001b[0m\u001b[0m\n",
      "\u001b[0;31mIOError\u001b[0m: [Errno 2] No such file or directory: 'xCorp-OctHC 2017.xlsx'"
     ]
    }
   ],
   "source": [
    "hr = pd.read_excel(\"xCorp-OctHC 2017.xlsx\")\n",
    "#hr.head()"
   ]
  },
  {
   "cell_type": "code",
   "execution_count": 1,
   "metadata": {},
   "outputs": [
    {
     "ename": "NameError",
     "evalue": "name 'hr' is not defined",
     "output_type": "error",
     "traceback": [
      "\u001b[0;31m---------------------------------------------------------------------------\u001b[0m",
      "\u001b[0;31mNameError\u001b[0m                                 Traceback (most recent call last)",
      "\u001b[0;32m<ipython-input-1-384d9e71e4de>\u001b[0m in \u001b[0;36m<module>\u001b[0;34m()\u001b[0m\n\u001b[0;32m----> 1\u001b[0;31m \u001b[0mhr\u001b[0m\u001b[0;34m.\u001b[0m\u001b[0mcolumns\u001b[0m\u001b[0;34m\u001b[0m\u001b[0m\n\u001b[0m",
      "\u001b[0;31mNameError\u001b[0m: name 'hr' is not defined"
     ]
    }
   ],
   "source": [
    "hr.columns"
   ]
  },
  {
   "cell_type": "code",
   "execution_count": 8,
   "metadata": {
    "collapsed": true
   },
   "outputs": [],
   "source": [
    "hr.groupby(['address','country','city','state']).count().to_excel('Headcount_address.xlsx')"
   ]
  },
  {
   "cell_type": "code",
   "execution_count": 53,
   "metadata": {
    "collapsed": true
   },
   "outputs": [],
   "source": []
  },
  {
   "cell_type": "code",
   "execution_count": null,
   "metadata": {},
   "outputs": [],
   "source": [
    "adv = pd.read_excel(\"GRIC_Advisories_100217 copy.xlsx\")\n",
    "\n",
    "#drop City_Mapped column to have clean start to run loops\n",
    "adv.drop('City_Mapped', inplace=True, axis=1)\n",
    "### fill blank rows with a space so they can be parsed\n",
    "adv.Advisory = adv.Advisory.fillna(\"\")\n",
    "#adv.head()"
   ]
  },
  {
   "cell_type": "code",
   "execution_count": 12,
   "metadata": {
    "collapsed": true
   },
   "outputs": [],
   "source": [
    "#url = 'https://en.wikipedia.org/wiki/List_of_United_States_cities_by_population'"
   ]
  },
  {
   "cell_type": "code",
   "execution_count": 36,
   "metadata": {
    "collapsed": true
   },
   "outputs": [],
   "source": [
    "# df of us cities\n",
    "us_city = pd.read_excel('UScities.xlsx')"
   ]
  },
  {
   "cell_type": "code",
   "execution_count": 33,
   "metadata": {
    "collapsed": true
   },
   "outputs": [],
   "source": [
    "### removes the brackets and numbers from city names in the cities file\n",
    "us_city.City = cities.City.str.replace(r\"\\[.*\\]\",\"\")"
   ]
  },
  {
   "cell_type": "code",
   "execution_count": 34,
   "metadata": {},
   "outputs": [
    {
     "data": {
      "text/html": [
       "<div>\n",
       "<style>\n",
       "    .dataframe thead tr:only-child th {\n",
       "        text-align: right;\n",
       "    }\n",
       "\n",
       "    .dataframe thead th {\n",
       "        text-align: left;\n",
       "    }\n",
       "\n",
       "    .dataframe tbody tr th {\n",
       "        vertical-align: top;\n",
       "    }\n",
       "</style>\n",
       "<table border=\"1\" class=\"dataframe\">\n",
       "  <thead>\n",
       "    <tr style=\"text-align: right;\">\n",
       "      <th></th>\n",
       "      <th>2016rank</th>\n",
       "      <th>City</th>\n",
       "      <th>State</th>\n",
       "      <th>2016estimate</th>\n",
       "      <th>2010Census</th>\n",
       "      <th>Change</th>\n",
       "      <th>2016 land area</th>\n",
       "      <th>2016 population density</th>\n",
       "      <th>Location</th>\n",
       "      <th>Unnamed: 9</th>\n",
       "      <th>Unnamed: 10</th>\n",
       "      <th>Country</th>\n",
       "    </tr>\n",
       "  </thead>\n",
       "  <tbody>\n",
       "    <tr>\n",
       "      <th>0</th>\n",
       "      <td>1</td>\n",
       "      <td>New York</td>\n",
       "      <td>New York</td>\n",
       "      <td>8537673</td>\n",
       "      <td>8175133</td>\n",
       "      <td>7000443466791304800♠+4.43%</td>\n",
       "      <td>301.5 sq mi</td>\n",
       "      <td>780.9 km2</td>\n",
       "      <td>28,317/sq mi</td>\n",
       "      <td>10,933/km2</td>\n",
       "      <td>40°39′49″N73°56′19″W/40.6635°N 73.9387°W/40.66...</td>\n",
       "      <td>United States</td>\n",
       "    </tr>\n",
       "    <tr>\n",
       "      <th>1</th>\n",
       "      <td>2</td>\n",
       "      <td>Los Angeles</td>\n",
       "      <td>California</td>\n",
       "      <td>3976322</td>\n",
       "      <td>3792621</td>\n",
       "      <td>7000484364243092050♠+4.84%</td>\n",
       "      <td>468.7 sq mi</td>\n",
       "      <td>1,213.9 km2</td>\n",
       "      <td>8,484/sq mi</td>\n",
       "      <td>3,276/km2</td>\n",
       "      <td>34°01′10″N118°24′39″W/34.0194°N 118.4108°W/34....</td>\n",
       "      <td>United States</td>\n",
       "    </tr>\n",
       "    <tr>\n",
       "      <th>2</th>\n",
       "      <td>3</td>\n",
       "      <td>Chicago</td>\n",
       "      <td>Illinois</td>\n",
       "      <td>2704958</td>\n",
       "      <td>2695598</td>\n",
       "      <td>6999347232784710470♠+0.35%</td>\n",
       "      <td>227.3 sq mi</td>\n",
       "      <td>588.7 km2</td>\n",
       "      <td>11,900/sq mi</td>\n",
       "      <td>4,600/km2</td>\n",
       "      <td>41°50′15″N87°40′54″W/41.8376°N 87.6818°W/41.83...</td>\n",
       "      <td>United States</td>\n",
       "    </tr>\n",
       "    <tr>\n",
       "      <th>3</th>\n",
       "      <td>4</td>\n",
       "      <td>Houston</td>\n",
       "      <td>Texas</td>\n",
       "      <td>2303482</td>\n",
       "      <td>2100263</td>\n",
       "      <td>7000967588344888229♠+9.68%</td>\n",
       "      <td>637.5 sq mi</td>\n",
       "      <td>1,651.1 km2</td>\n",
       "      <td>3,613/sq mi</td>\n",
       "      <td>1,395/km2</td>\n",
       "      <td>29°47′12″N95°23′27″W/29.7866°N 95.3909°W/29.78...</td>\n",
       "      <td>United States</td>\n",
       "    </tr>\n",
       "    <tr>\n",
       "      <th>4</th>\n",
       "      <td>5</td>\n",
       "      <td>Phoenix</td>\n",
       "      <td>Arizona</td>\n",
       "      <td>1615017</td>\n",
       "      <td>1445632</td>\n",
       "      <td>7001117170206525590♠+11.72%</td>\n",
       "      <td>517.6 sq mi</td>\n",
       "      <td>1,340.6 km2</td>\n",
       "      <td>3,120/sq mi</td>\n",
       "      <td>1,200/km2</td>\n",
       "      <td>33°34′20″N112°05′24″W/33.5722°N 112.0901°W/33....</td>\n",
       "      <td>United States</td>\n",
       "    </tr>\n",
       "  </tbody>\n",
       "</table>\n",
       "</div>"
      ],
      "text/plain": [
       "   2016rank         City       State  2016estimate  2010Census  \\\n",
       "0         1     New York    New York       8537673     8175133   \n",
       "1         2  Los Angeles  California       3976322     3792621   \n",
       "2         3      Chicago    Illinois       2704958     2695598   \n",
       "3         4      Houston       Texas       2303482     2100263   \n",
       "4         5      Phoenix     Arizona       1615017     1445632   \n",
       "\n",
       "                        Change 2016 land area 2016 population density  \\\n",
       "0   7000443466791304800♠+4.43%    301.5 sq mi               780.9 km2   \n",
       "1   7000484364243092050♠+4.84%    468.7 sq mi             1,213.9 km2   \n",
       "2   6999347232784710470♠+0.35%    227.3 sq mi               588.7 km2   \n",
       "3   7000967588344888229♠+9.68%    637.5 sq mi             1,651.1 km2   \n",
       "4  7001117170206525590♠+11.72%    517.6 sq mi             1,340.6 km2   \n",
       "\n",
       "       Location  Unnamed: 9  \\\n",
       "0  28,317/sq mi  10,933/km2   \n",
       "1   8,484/sq mi   3,276/km2   \n",
       "2  11,900/sq mi   4,600/km2   \n",
       "3   3,613/sq mi   1,395/km2   \n",
       "4   3,120/sq mi   1,200/km2   \n",
       "\n",
       "                                         Unnamed: 10        Country  \n",
       "0  40°39′49″N73°56′19″W/40.6635°N 73.9387°W/40.66...  United States  \n",
       "1  34°01′10″N118°24′39″W/34.0194°N 118.4108°W/34....  United States  \n",
       "2  41°50′15″N87°40′54″W/41.8376°N 87.6818°W/41.83...  United States  \n",
       "3  29°47′12″N95°23′27″W/29.7866°N 95.3909°W/29.78...  United States  \n",
       "4  33°34′20″N112°05′24″W/33.5722°N 112.0901°W/33....  United States  "
      ]
     },
     "execution_count": 34,
     "metadata": {},
     "output_type": "execute_result"
    }
   ],
   "source": [
    "us_city['Country'] = 'United States' # assign Country to US cities\n",
    "us_city = cities.rename(columns={'State[5]':'State'}) # rename column\n",
    "us_city.to_excel('UScities.xlsx')\n",
    "us_city.head()"
   ]
  },
  {
   "cell_type": "code",
   "execution_count": 42,
   "metadata": {},
   "outputs": [
    {
     "data": {
      "text/html": [
       "<div>\n",
       "<style>\n",
       "    .dataframe thead tr:only-child th {\n",
       "        text-align: right;\n",
       "    }\n",
       "\n",
       "    .dataframe thead th {\n",
       "        text-align: left;\n",
       "    }\n",
       "\n",
       "    .dataframe tbody tr th {\n",
       "        vertical-align: top;\n",
       "    }\n",
       "</style>\n",
       "<table border=\"1\" class=\"dataframe\">\n",
       "  <thead>\n",
       "    <tr style=\"text-align: right;\">\n",
       "      <th></th>\n",
       "      <th>City</th>\n",
       "      <th>Country</th>\n",
       "      <th>Population-City Proper</th>\n",
       "      <th>Population-Metropolitan area</th>\n",
       "      <th>Population-Urban area</th>\n",
       "    </tr>\n",
       "  </thead>\n",
       "  <tbody>\n",
       "    <tr>\n",
       "      <th>0</th>\n",
       "      <td>Shanghai</td>\n",
       "      <td>China</td>\n",
       "      <td>24,256,800[8]</td>\n",
       "      <td>34,750,000[9]</td>\n",
       "      <td>23,416,000[a]</td>\n",
       "    </tr>\n",
       "    <tr>\n",
       "      <th>1</th>\n",
       "      <td>Beijing</td>\n",
       "      <td>China</td>\n",
       "      <td>21,516,000[10]</td>\n",
       "      <td>24,900,000[11]</td>\n",
       "      <td>21009000</td>\n",
       "    </tr>\n",
       "    <tr>\n",
       "      <th>2</th>\n",
       "      <td>Delhi</td>\n",
       "      <td>India</td>\n",
       "      <td>16,787,941[12]</td>\n",
       "      <td>24998000</td>\n",
       "      <td>21,753,486[13]</td>\n",
       "    </tr>\n",
       "    <tr>\n",
       "      <th>3</th>\n",
       "      <td>Lagos</td>\n",
       "      <td>Nigeria</td>\n",
       "      <td>16,060,303[b]</td>\n",
       "      <td>21,000,000[16]</td>\n",
       "      <td>13123000</td>\n",
       "    </tr>\n",
       "    <tr>\n",
       "      <th>4</th>\n",
       "      <td>Karachi</td>\n",
       "      <td>Pakistan</td>\n",
       "      <td>14,910,352[17]</td>\n",
       "      <td>NaN</td>\n",
       "      <td>NaN</td>\n",
       "    </tr>\n",
       "  </tbody>\n",
       "</table>\n",
       "</div>"
      ],
      "text/plain": [
       "       City   Country Population-City Proper Population-Metropolitan area  \\\n",
       "0  Shanghai     China          24,256,800[8]                34,750,000[9]   \n",
       "1   Beijing     China         21,516,000[10]               24,900,000[11]   \n",
       "2     Delhi     India         16,787,941[12]                     24998000   \n",
       "3     Lagos   Nigeria          16,060,303[b]               21,000,000[16]   \n",
       "4   Karachi  Pakistan         14,910,352[17]                          NaN   \n",
       "\n",
       "  Population-Urban area  \n",
       "0         23,416,000[a]  \n",
       "1              21009000  \n",
       "2        21,753,486[13]  \n",
       "3              13123000  \n",
       "4                   NaN  "
      ]
     },
     "execution_count": 42,
     "metadata": {},
     "output_type": "execute_result"
    }
   ],
   "source": [
    "us_city = pd.read_excel('UScities.xlsx')\n",
    "\n",
    "int_city = pd.read_excel(\"WorldCities.xlsx\")\n",
    "int_city.head()"
   ]
  },
  {
   "cell_type": "code",
   "execution_count": 17,
   "metadata": {
    "collapsed": true
   },
   "outputs": [],
   "source": [
    "df_cit = pd.concat([us_city,int_city],axis=0,join='outer')"
   ]
  },
  {
   "cell_type": "code",
   "execution_count": 64,
   "metadata": {
    "collapsed": true
   },
   "outputs": [],
   "source": [
    "### some of the rows in the Advisory column are stored in weird formats, \n",
    "# code below unifies the way each row is displayed as text\n",
    "#adv['Advisory'] = adv['Advisory'].apply(lambda x: x.decode('utf-8').strip())"
   ]
  },
  {
   "cell_type": "code",
   "execution_count": 18,
   "metadata": {
    "collapsed": true
   },
   "outputs": [],
   "source": []
  },
  {
   "cell_type": "code",
   "execution_count": 150,
   "metadata": {},
   "outputs": [
    {
     "data": {
      "text/plain": [
       "' looks like some of the rows in the Advisory column are stored in weird formats, \\n#so the code below unifies the way each row is displayed as text'"
      ]
     },
     "execution_count": 150,
     "metadata": {},
     "output_type": "execute_result"
    }
   ],
   "source": [
    "''' trying to run the below code on a csv file. Formatting issues with Advisory col'''\n",
    "#df = pd.read_csv('GRIC_Advisories_100217 copy.csv')\n",
    "\"\"\" looks like some of the rows in the Advisory column are stored in weird formats, \n",
    "#so the code below unifies the way each row is displayed as text\"\"\"\n",
    "#adv.to_csv('teswaltesd.csv')\n",
    "#df['Advisory'] = df['Advisory'].apply(lambda x: x.decode('utf-8').strip())"
   ]
  },
  {
   "cell_type": "code",
   "execution_count": 5,
   "metadata": {
    "collapsed": true
   },
   "outputs": [],
   "source": [
    "adv['City_Mapped'] = ''\n",
    "\n",
    "\"\"\"This function will loop through each row in the Advisory column\n",
    "and see if the current city being looped through is contained within that row. The try/except part \n",
    "is mainly because some of the text in the Advisory column is causing Encoding Errors.. that usually \n",
    "means it's just in a weird format\"\"\"\n",
    "\n",
    "def match_city_to_advisory_details(row):\n",
    "    try:\n",
    "        if re.search('{city}'.format(city = city),row.Advisory) is not None:\n",
    "            row['City_Mapped'] = city\n",
    "        else:\n",
    "            pass\n",
    "    except UnicodeEncodeError:\n",
    "        pass\n",
    "    return row"
   ]
  },
  {
   "cell_type": "code",
   "execution_count": 73,
   "metadata": {
    "collapsed": true
   },
   "outputs": [],
   "source": [
    "\"\"\"This is a for loop that applies the above function to the dataset FOR each unique city in the df_cit.City column\"\"\"\n",
    "\"\"\"to avoid the city Cali being associated with California, create an international and a national df\"\"\"\n",
    "for city in us_city['City'].unique():\n",
    "    adv = adv.apply(lambda row: match_city_to_advisory_details(row), axis = 1)"
   ]
  },
  {
   "cell_type": "code",
   "execution_count": 74,
   "metadata": {
    "collapsed": true
   },
   "outputs": [],
   "source": [
    "for city in int_city['City'].unique():\n",
    "    adv = adv.apply(lambda row: match_city_to_advisory_details(row), axis=1)"
   ]
  },
  {
   "cell_type": "code",
   "execution_count": 75,
   "metadata": {
    "collapsed": true
   },
   "outputs": [],
   "source": [
    "# zero out rows where Cali is the City bc Cali, Columbia should not be mapped to California\n",
    "adv.City = adv.City.str.replace('California',\"\")"
   ]
  },
  {
   "cell_type": "code",
   "execution_count": 76,
   "metadata": {
    "collapsed": true
   },
   "outputs": [],
   "source": [
    "adv.City = adv.City.fillna(adv.City_Mapped)\n",
    "adv.City = adv.City.str.replace('Cali',\"\")\n",
    "#adv.City = adv.City.str.replace('California',\"\")\n",
    "adv.City = adv.City.str.replace('Universal City',\"\")"
   ]
  },
  {
   "cell_type": "code",
   "execution_count": 67,
   "metadata": {
    "collapsed": true
   },
   "outputs": [],
   "source": [
    "#for i in adv.City:\n",
    "#    if adv.City is not None:\n",
    "#        pass\n",
    "#    if adv.Country[i] != \"California\":\n",
    "#        adv.City.fillna(adv.City_Mapped)\n",
    "        "
   ]
  },
  {
   "cell_type": "code",
   "execution_count": 89,
   "metadata": {
    "collapsed": true
   },
   "outputs": [],
   "source": [
    "adv.to_excel('GRIC_Advisories_101017.xlsx',index=False)"
   ]
  },
  {
   "cell_type": "code",
   "execution_count": null,
   "metadata": {},
   "outputs": [],
   "source": [
    "adv = pd.read_excel('GRIC_Advisories_101217.xlsx')\n",
    "#adv.head()"
   ]
  },
  {
   "cell_type": "code",
   "execution_count": null,
   "metadata": {
    "collapsed": true
   },
   "outputs": [],
   "source": [
    "sorted(adv.City.unique())"
   ]
  },
  {
   "cell_type": "code",
   "execution_count": 84,
   "metadata": {
    "collapsed": true
   },
   "outputs": [],
   "source": [
    "adv.City = adv.City.str.replace('New York City', \"New York\")\n",
    "adv.City = adv.City.str.replace('New York ', \"New York\")"
   ]
  },
  {
   "cell_type": "code",
   "execution_count": 86,
   "metadata": {
    "collapsed": true
   },
   "outputs": [],
   "source": [
    "adv.City = adv.City.str.replace('Washington ', \"Washington D.C.\")"
   ]
  },
  {
   "cell_type": "code",
   "execution_count": 9,
   "metadata": {
    "collapsed": true
   },
   "outputs": [],
   "source": [
    "# fill null values so below map can work\n",
    "adv.City = adv.City.fillna(\"\")\n",
    "# remove any trailing spaces\n",
    "adv.City = adv.City.map(lambda x: x.strip())"
   ]
  },
  {
   "cell_type": "code",
   "execution_count": null,
   "metadata": {
    "collapsed": true
   },
   "outputs": [],
   "source": []
  }
 ],
 "metadata": {
  "kernelspec": {
   "display_name": "Python 2",
   "language": "python",
   "name": "python2"
  },
  "language_info": {
   "codemirror_mode": {
    "name": "ipython",
    "version": 2
   },
   "file_extension": ".py",
   "mimetype": "text/x-python",
   "name": "python",
   "nbconvert_exporter": "python",
   "pygments_lexer": "ipython2",
   "version": "2.7.14"
  }
 },
 "nbformat": 4,
 "nbformat_minor": 2
}
