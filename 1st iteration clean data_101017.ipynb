{
 "cells": [
  {
   "cell_type": "code",
   "execution_count": 2,
   "metadata": {
    "collapsed": true
   },
   "outputs": [],
   "source": [
    "'''Purpose of this script is to clean and transform the first iteration of the headcount data'''\n",
    "\n",
    "import pandas as pd\n",
    "import numpy as np\n",
    "\n",
    "import re\n",
    "import operator as op"
   ]
  },
  {
   "cell_type": "code",
   "execution_count": 3,
   "metadata": {
    "collapsed": true
   },
   "outputs": [],
   "source": [
    "# read in property list for property size, function, tier, location\n",
    "prop = pd.read_excel('2017-09-11 Records of Interest.xlsx', header=7, skiprows=[0-7])\n",
    "#prop.head()"
   ]
  },
  {
   "cell_type": "code",
   "execution_count": 4,
   "metadata": {},
   "outputs": [],
   "source": [
    "# get building area by country\n",
    "group1 = prop.groupby(['Building Country']).sum().round(1).reset_index()\n",
    "#group1.sort_values('Rentable Area', ascending= False)"
   ]
  },
  {
   "cell_type": "code",
   "execution_count": 5,
   "metadata": {},
   "outputs": [],
   "source": [
    "risk = pd.read_excel(\"Country Risk Ratings June 2017.xlsx\")\n",
    "#risk.head()"
   ]
  },
  {
   "cell_type": "code",
   "execution_count": 6,
   "metadata": {},
   "outputs": [],
   "source": [
    "risk = risk.drop(['NC4','Control Risks','Foreign Affairs Canada','FCO UK','Tier','Comments'],axis=1)\n",
    "#risk.head()"
   ]
  },
  {
   "cell_type": "code",
   "execution_count": 13,
   "metadata": {},
   "outputs": [
    {
     "data": {
      "text/html": [
       "<div>\n",
       "<style>\n",
       "    .dataframe thead tr:only-child th {\n",
       "        text-align: right;\n",
       "    }\n",
       "\n",
       "    .dataframe thead th {\n",
       "        text-align: left;\n",
       "    }\n",
       "\n",
       "    .dataframe tbody tr th {\n",
       "        vertical-align: top;\n",
       "    }\n",
       "</style>\n",
       "<table border=\"1\" class=\"dataframe\">\n",
       "  <thead>\n",
       "    <tr style=\"text-align: right;\">\n",
       "      <th></th>\n",
       "      <th>Country</th>\n",
       "      <th>Alpha2</th>\n",
       "      <th>CountryAbb</th>\n",
       "      <th>NumCode</th>\n",
       "    </tr>\n",
       "  </thead>\n",
       "  <tbody>\n",
       "    <tr>\n",
       "      <th>0</th>\n",
       "      <td>Aland Islands</td>\n",
       "      <td>AX</td>\n",
       "      <td>ALA</td>\n",
       "      <td>248</td>\n",
       "    </tr>\n",
       "    <tr>\n",
       "      <th>1</th>\n",
       "      <td>Albania</td>\n",
       "      <td>AL</td>\n",
       "      <td>ALB</td>\n",
       "      <td>8</td>\n",
       "    </tr>\n",
       "    <tr>\n",
       "      <th>2</th>\n",
       "      <td>Algeria</td>\n",
       "      <td>DZ</td>\n",
       "      <td>DZA</td>\n",
       "      <td>12</td>\n",
       "    </tr>\n",
       "    <tr>\n",
       "      <th>3</th>\n",
       "      <td>American Samoa</td>\n",
       "      <td>AS</td>\n",
       "      <td>ASM</td>\n",
       "      <td>16</td>\n",
       "    </tr>\n",
       "    <tr>\n",
       "      <th>4</th>\n",
       "      <td>Andorra</td>\n",
       "      <td>AD</td>\n",
       "      <td>AND</td>\n",
       "      <td>20</td>\n",
       "    </tr>\n",
       "  </tbody>\n",
       "</table>\n",
       "</div>"
      ],
      "text/plain": [
       "          Country Alpha2 CountryAbb  NumCode\n",
       "0   Aland Islands     AX        ALA      248\n",
       "1         Albania     AL        ALB        8\n",
       "2         Algeria     DZ        DZA       12\n",
       "3  American Samoa     AS        ASM       16\n",
       "4         Andorra     AD        AND       20"
      ]
     },
     "execution_count": 13,
     "metadata": {},
     "output_type": "execute_result"
    }
   ],
   "source": [
    "# read in dataframe of country and abbreviation\n",
    "country = pd.read_excel('country_abb.xlsx', skiprows=[1], names=('Country','Alpha2','CountryAbb','NumCode'))\n",
    "country.head()"
   ]
  },
  {
   "cell_type": "code",
   "execution_count": 14,
   "metadata": {},
   "outputs": [
    {
     "data": {
      "text/html": [
       "<div>\n",
       "<style>\n",
       "    .dataframe thead tr:only-child th {\n",
       "        text-align: right;\n",
       "    }\n",
       "\n",
       "    .dataframe thead th {\n",
       "        text-align: left;\n",
       "    }\n",
       "\n",
       "    .dataframe tbody tr th {\n",
       "        vertical-align: top;\n",
       "    }\n",
       "</style>\n",
       "<table border=\"1\" class=\"dataframe\">\n",
       "  <thead>\n",
       "    <tr style=\"text-align: right;\">\n",
       "      <th></th>\n",
       "      <th>Country</th>\n",
       "      <th>CountryAbb</th>\n",
       "    </tr>\n",
       "  </thead>\n",
       "  <tbody>\n",
       "    <tr>\n",
       "      <th>0</th>\n",
       "      <td>Aland Islands</td>\n",
       "      <td>ALA</td>\n",
       "    </tr>\n",
       "    <tr>\n",
       "      <th>1</th>\n",
       "      <td>Albania</td>\n",
       "      <td>ALB</td>\n",
       "    </tr>\n",
       "    <tr>\n",
       "      <th>2</th>\n",
       "      <td>Algeria</td>\n",
       "      <td>DZA</td>\n",
       "    </tr>\n",
       "    <tr>\n",
       "      <th>3</th>\n",
       "      <td>American Samoa</td>\n",
       "      <td>ASM</td>\n",
       "    </tr>\n",
       "    <tr>\n",
       "      <th>4</th>\n",
       "      <td>Andorra</td>\n",
       "      <td>AND</td>\n",
       "    </tr>\n",
       "  </tbody>\n",
       "</table>\n",
       "</div>"
      ],
      "text/plain": [
       "          Country CountryAbb\n",
       "0   Aland Islands        ALA\n",
       "1         Albania        ALB\n",
       "2         Algeria        DZA\n",
       "3  American Samoa        ASM\n",
       "4         Andorra        AND"
      ]
     },
     "execution_count": 14,
     "metadata": {},
     "output_type": "execute_result"
    }
   ],
   "source": [
    "country = country.drop(['Alpha2','NumCode'],axis=1)\n",
    "country.head()"
   ]
  },
  {
   "cell_type": "code",
   "execution_count": 15,
   "metadata": {
    "collapsed": true
   },
   "outputs": [],
   "source": [
    "risk = risk.join(country.set_index(\"Country\"), on= \"Country\")"
   ]
  },
  {
   "cell_type": "code",
   "execution_count": 16,
   "metadata": {
    "collapsed": true
   },
   "outputs": [],
   "source": [
    "risk = risk.CountryAbb.str.replace('GBR','UK')"
   ]
  },
  {
   "cell_type": "code",
   "execution_count": 17,
   "metadata": {
    "collapsed": true
   },
   "outputs": [],
   "source": [
    "risk = risk.rename(columns={'xCorp':'xCorp_RiskCategory'})\n",
    "#risk.head()"
   ]
  },
  {
   "cell_type": "code",
   "execution_count": 7,
   "metadata": {
    "collapsed": true
   },
   "outputs": [],
   "source": [
    "# rename column Building Country to CountryAbb\n",
    "prop = prop.rename(columns={'Building Country':'CountryAbb','xCorp':'xCorp_RiskCategory'})\n",
    "#prop.head()"
   ]
  },
  {
   "cell_type": "code",
   "execution_count": 9,
   "metadata": {},
   "outputs": [],
   "source": [
    "#prop = prop.join(risk.set_index(\"CountryAbb\"),on='CountryAbb')"
   ]
  },
  {
   "cell_type": "code",
   "execution_count": 19,
   "metadata": {
    "collapsed": true
   },
   "outputs": [],
   "source": [
    "#prop.head()"
   ]
  },
  {
   "cell_type": "code",
   "execution_count": 10,
   "metadata": {},
   "outputs": [],
   "source": [
    "# count of null rows per column\n",
    "#prop.isnull().sum()"
   ]
  },
  {
   "cell_type": "code",
   "execution_count": 23,
   "metadata": {
    "collapsed": true
   },
   "outputs": [],
   "source": [
    "prop.to_excel('Incident_Model_data_100317.xlsx',index=False)"
   ]
  },
  {
   "cell_type": "code",
   "execution_count": 24,
   "metadata": {
    "collapsed": true,
    "scrolled": true
   },
   "outputs": [],
   "source": [
    "prop = pd.read_excel('Incident_Model_data_100317.xlsx')\n",
    "#prop.head()"
   ]
  },
  {
   "cell_type": "code",
   "execution_count": null,
   "metadata": {},
   "outputs": [],
   "source": [
    "hr = pd.read_excel(\"xCorp-OctHC 2017.xlsx\")\n",
    "#hr.head()"
   ]
  },
  {
   "cell_type": "code",
   "execution_count": null,
   "metadata": {},
   "outputs": [],
   "source": [
    "#hr.columns"
   ]
  },
  {
   "cell_type": "code",
   "execution_count": 8,
   "metadata": {
    "collapsed": true
   },
   "outputs": [],
   "source": [
    "hr.groupby(['address','country','city','state']).count().to_excel('Headcount_address.xlsx')"
   ]
  },
  {
   "cell_type": "code",
   "execution_count": 53,
   "metadata": {
    "collapsed": true
   },
   "outputs": [],
   "source": []
  },
  {
   "cell_type": "code",
   "execution_count": null,
   "metadata": {
    "collapsed": true
   },
   "outputs": [],
   "source": [
    "adv = pd.read_excel(\"Advisories_100217 copy.xlsx\")\n",
    "\n",
    "#drop City_Mapped column to have clean start to run loops\n",
    "adv.drop('City_Mapped', inplace=True, axis=1)\n",
    "### fill blank rows with a space so they can be parsed\n",
    "adv.Advisory = adv.Advisory.fillna(\"\")\n",
    "#adv.head()"
   ]
  },
  {
   "cell_type": "code",
   "execution_count": 12,
   "metadata": {
    "collapsed": true
   },
   "outputs": [],
   "source": [
    "#url = 'https://en.wikipedia.org/wiki/List_of_United_States_cities_by_population'"
   ]
  },
  {
   "cell_type": "code",
   "execution_count": 36,
   "metadata": {
    "collapsed": true
   },
   "outputs": [],
   "source": [
    "# df of us cities\n",
    "us_city = pd.read_excel('UScities.xlsx')"
   ]
  },
  {
   "cell_type": "code",
   "execution_count": 33,
   "metadata": {
    "collapsed": true
   },
   "outputs": [],
   "source": [
    "### removes the brackets and numbers from city names in the cities file\n",
    "us_city.City = cities.City.str.replace(r\"\\[.*\\]\",\"\")"
   ]
  },
  {
   "cell_type": "code",
   "execution_count": 34,
   "metadata": {},
   "outputs": [
    {
     "data": {
      "text/html": [
       "<div>\n",
       "<style>\n",
       "    .dataframe thead tr:only-child th {\n",
       "        text-align: right;\n",
       "    }\n",
       "\n",
       "    .dataframe thead th {\n",
       "        text-align: left;\n",
       "    }\n",
       "\n",
       "    .dataframe tbody tr th {\n",
       "        vertical-align: top;\n",
       "    }\n",
       "</style>\n",
       "<table border=\"1\" class=\"dataframe\">\n",
       "  <thead>\n",
       "    <tr style=\"text-align: right;\">\n",
       "      <th></th>\n",
       "      <th>2016rank</th>\n",
       "      <th>City</th>\n",
       "      <th>State</th>\n",
       "      <th>2016estimate</th>\n",
       "      <th>2010Census</th>\n",
       "      <th>Change</th>\n",
       "      <th>2016 land area</th>\n",
       "      <th>2016 population density</th>\n",
       "      <th>Location</th>\n",
       "      <th>Unnamed: 9</th>\n",
       "      <th>Unnamed: 10</th>\n",
       "      <th>Country</th>\n",
       "    </tr>\n",
       "  </thead>\n",
       "  <tbody>\n",
       "    <tr>\n",
       "      <th>0</th>\n",
       "      <td>1</td>\n",
       "      <td>New York</td>\n",
       "      <td>New York</td>\n",
       "      <td>8537673</td>\n",
       "      <td>8175133</td>\n",
       "      <td>7000443466791304800♠+4.43%</td>\n",
       "      <td>301.5 sq mi</td>\n",
       "      <td>780.9 km2</td>\n",
       "      <td>28,317/sq mi</td>\n",
       "      <td>10,933/km2</td>\n",
       "      <td>40°39′49″N73°56′19″W/40.6635°N 73.9387°W/40.66...</td>\n",
       "      <td>United States</td>\n",
       "    </tr>\n",
       "    <tr>\n",
       "      <th>1</th>\n",
       "      <td>2</td>\n",
       "      <td>Los Angeles</td>\n",
       "      <td>California</td>\n",
       "      <td>3976322</td>\n",
       "      <td>3792621</td>\n",
       "      <td>7000484364243092050♠+4.84%</td>\n",
       "      <td>468.7 sq mi</td>\n",
       "      <td>1,213.9 km2</td>\n",
       "      <td>8,484/sq mi</td>\n",
       "      <td>3,276/km2</td>\n",
       "      <td>34°01′10″N118°24′39″W/34.0194°N 118.4108°W/34....</td>\n",
       "      <td>United States</td>\n",
       "    </tr>\n",
       "    <tr>\n",
       "      <th>2</th>\n",
       "      <td>3</td>\n",
       "      <td>Chicago</td>\n",
       "      <td>Illinois</td>\n",
       "      <td>2704958</td>\n",
       "      <td>2695598</td>\n",
       "      <td>6999347232784710470♠+0.35%</td>\n",
       "      <td>227.3 sq mi</td>\n",
       "      <td>588.7 km2</td>\n",
       "      <td>11,900/sq mi</td>\n",
       "      <td>4,600/km2</td>\n",
       "      <td>41°50′15″N87°40′54″W/41.8376°N 87.6818°W/41.83...</td>\n",
       "      <td>United States</td>\n",
       "    </tr>\n",
       "    <tr>\n",
       "      <th>3</th>\n",
       "      <td>4</td>\n",
       "      <td>Houston</td>\n",
       "      <td>Texas</td>\n",
       "      <td>2303482</td>\n",
       "      <td>2100263</td>\n",
       "      <td>7000967588344888229♠+9.68%</td>\n",
       "      <td>637.5 sq mi</td>\n",
       "      <td>1,651.1 km2</td>\n",
       "      <td>3,613/sq mi</td>\n",
       "      <td>1,395/km2</td>\n",
       "      <td>29°47′12″N95°23′27″W/29.7866°N 95.3909°W/29.78...</td>\n",
       "      <td>United States</td>\n",
       "    </tr>\n",
       "    <tr>\n",
       "      <th>4</th>\n",
       "      <td>5</td>\n",
       "      <td>Phoenix</td>\n",
       "      <td>Arizona</td>\n",
       "      <td>1615017</td>\n",
       "      <td>1445632</td>\n",
       "      <td>7001117170206525590♠+11.72%</td>\n",
       "      <td>517.6 sq mi</td>\n",
       "      <td>1,340.6 km2</td>\n",
       "      <td>3,120/sq mi</td>\n",
       "      <td>1,200/km2</td>\n",
       "      <td>33°34′20″N112°05′24″W/33.5722°N 112.0901°W/33....</td>\n",
       "      <td>United States</td>\n",
       "    </tr>\n",
       "  </tbody>\n",
       "</table>\n",
       "</div>"
      ],
      "text/plain": [
       "   2016rank         City       State  2016estimate  2010Census  \\\n",
       "0         1     New York    New York       8537673     8175133   \n",
       "1         2  Los Angeles  California       3976322     3792621   \n",
       "2         3      Chicago    Illinois       2704958     2695598   \n",
       "3         4      Houston       Texas       2303482     2100263   \n",
       "4         5      Phoenix     Arizona       1615017     1445632   \n",
       "\n",
       "                        Change 2016 land area 2016 population density  \\\n",
       "0   7000443466791304800♠+4.43%    301.5 sq mi               780.9 km2   \n",
       "1   7000484364243092050♠+4.84%    468.7 sq mi             1,213.9 km2   \n",
       "2   6999347232784710470♠+0.35%    227.3 sq mi               588.7 km2   \n",
       "3   7000967588344888229♠+9.68%    637.5 sq mi             1,651.1 km2   \n",
       "4  7001117170206525590♠+11.72%    517.6 sq mi             1,340.6 km2   \n",
       "\n",
       "       Location  Unnamed: 9  \\\n",
       "0  28,317/sq mi  10,933/km2   \n",
       "1   8,484/sq mi   3,276/km2   \n",
       "2  11,900/sq mi   4,600/km2   \n",
       "3   3,613/sq mi   1,395/km2   \n",
       "4   3,120/sq mi   1,200/km2   \n",
       "\n",
       "                                         Unnamed: 10        Country  \n",
       "0  40°39′49″N73°56′19″W/40.6635°N 73.9387°W/40.66...  United States  \n",
       "1  34°01′10″N118°24′39″W/34.0194°N 118.4108°W/34....  United States  \n",
       "2  41°50′15″N87°40′54″W/41.8376°N 87.6818°W/41.83...  United States  \n",
       "3  29°47′12″N95°23′27″W/29.7866°N 95.3909°W/29.78...  United States  \n",
       "4  33°34′20″N112°05′24″W/33.5722°N 112.0901°W/33....  United States  "
      ]
     },
     "execution_count": 34,
     "metadata": {},
     "output_type": "execute_result"
    }
   ],
   "source": [
    "us_city['Country'] = 'United States' # assign Country to US cities\n",
    "us_city = cities.rename(columns={'State[5]':'State'}) # rename column\n",
    "us_city.to_excel('UScities.xlsx')\n",
    "us_city.head()"
   ]
  },
  {
   "cell_type": "code",
   "execution_count": 42,
   "metadata": {},
   "outputs": [
    {
     "data": {
      "text/html": [
       "<div>\n",
       "<style>\n",
       "    .dataframe thead tr:only-child th {\n",
       "        text-align: right;\n",
       "    }\n",
       "\n",
       "    .dataframe thead th {\n",
       "        text-align: left;\n",
       "    }\n",
       "\n",
       "    .dataframe tbody tr th {\n",
       "        vertical-align: top;\n",
       "    }\n",
       "</style>\n",
       "<table border=\"1\" class=\"dataframe\">\n",
       "  <thead>\n",
       "    <tr style=\"text-align: right;\">\n",
       "      <th></th>\n",
       "      <th>City</th>\n",
       "      <th>Country</th>\n",
       "      <th>Population-City Proper</th>\n",
       "      <th>Population-Metropolitan area</th>\n",
       "      <th>Population-Urban area</th>\n",
       "    </tr>\n",
       "  </thead>\n",
       "  <tbody>\n",
       "    <tr>\n",
       "      <th>0</th>\n",
       "      <td>Shanghai</td>\n",
       "      <td>China</td>\n",
       "      <td>24,256,800[8]</td>\n",
       "      <td>34,750,000[9]</td>\n",
       "      <td>23,416,000[a]</td>\n",
       "    </tr>\n",
       "    <tr>\n",
       "      <th>1</th>\n",
       "      <td>Beijing</td>\n",
       "      <td>China</td>\n",
       "      <td>21,516,000[10]</td>\n",
       "      <td>24,900,000[11]</td>\n",
       "      <td>21009000</td>\n",
       "    </tr>\n",
       "    <tr>\n",
       "      <th>2</th>\n",
       "      <td>Delhi</td>\n",
       "      <td>India</td>\n",
       "      <td>16,787,941[12]</td>\n",
       "      <td>24998000</td>\n",
       "      <td>21,753,486[13]</td>\n",
       "    </tr>\n",
       "    <tr>\n",
       "      <th>3</th>\n",
       "      <td>Lagos</td>\n",
       "      <td>Nigeria</td>\n",
       "      <td>16,060,303[b]</td>\n",
       "      <td>21,000,000[16]</td>\n",
       "      <td>13123000</td>\n",
       "    </tr>\n",
       "    <tr>\n",
       "      <th>4</th>\n",
       "      <td>Karachi</td>\n",
       "      <td>Pakistan</td>\n",
       "      <td>14,910,352[17]</td>\n",
       "      <td>NaN</td>\n",
       "      <td>NaN</td>\n",
       "    </tr>\n",
       "  </tbody>\n",
       "</table>\n",
       "</div>"
      ],
      "text/plain": [
       "       City   Country Population-City Proper Population-Metropolitan area  \\\n",
       "0  Shanghai     China          24,256,800[8]                34,750,000[9]   \n",
       "1   Beijing     China         21,516,000[10]               24,900,000[11]   \n",
       "2     Delhi     India         16,787,941[12]                     24998000   \n",
       "3     Lagos   Nigeria          16,060,303[b]               21,000,000[16]   \n",
       "4   Karachi  Pakistan         14,910,352[17]                          NaN   \n",
       "\n",
       "  Population-Urban area  \n",
       "0         23,416,000[a]  \n",
       "1              21009000  \n",
       "2        21,753,486[13]  \n",
       "3              13123000  \n",
       "4                   NaN  "
      ]
     },
     "execution_count": 42,
     "metadata": {},
     "output_type": "execute_result"
    }
   ],
   "source": [
    "us_city = pd.read_excel('UScities.xlsx')\n",
    "\n",
    "int_city = pd.read_excel(\"WorldCities.xlsx\")\n",
    "int_city.head()"
   ]
  },
  {
   "cell_type": "code",
   "execution_count": 17,
   "metadata": {
    "collapsed": true
   },
   "outputs": [],
   "source": [
    "df_cit = pd.concat([us_city,int_city],axis=0,join='outer')"
   ]
  },
  {
   "cell_type": "code",
   "execution_count": 64,
   "metadata": {
    "collapsed": true
   },
   "outputs": [],
   "source": [
    "### some of the rows in the Advisory column are stored in weird formats, \n",
    "# code below unifies the way each row is displayed as text\n",
    "#adv['Advisory'] = adv['Advisory'].apply(lambda x: x.decode('utf-8').strip())"
   ]
  },
  {
   "cell_type": "code",
   "execution_count": 18,
   "metadata": {
    "collapsed": true
   },
   "outputs": [],
   "source": []
  },
  {
   "cell_type": "code",
   "execution_count": 150,
   "metadata": {},
   "outputs": [
    {
     "data": {
      "text/plain": [
       "' looks like some of the rows in the Advisory column are stored in weird formats, \\n#so the code below unifies the way each row is displayed as text'"
      ]
     },
     "execution_count": 150,
     "metadata": {},
     "output_type": "execute_result"
    }
   ],
   "source": [
    "''' trying to run the below code on a csv file. Formatting issues with Advisory col'''\n",
    "#df = pd.read_csv('Advisories_100217 copy.csv')\n",
    "\"\"\" looks like some of the rows in the Advisory column are stored in weird formats, \n",
    "#so the code below unifies the way each row is displayed as text\"\"\"\n",
    "#adv.to_csv('teswaltesd.csv')\n",
    "#df['Advisory'] = df['Advisory'].apply(lambda x: x.decode('utf-8').strip())"
   ]
  },
  {
   "cell_type": "code",
   "execution_count": 5,
   "metadata": {
    "collapsed": true
   },
   "outputs": [],
   "source": [
    "adv['City_Mapped'] = ''\n",
    "\n",
    "\"\"\"This function will loop through each row in the Advisory column\n",
    "and see if the current city being looped through is contained within that row. The try/except part \n",
    "is mainly because some of the text in the Advisory column is causing Encoding Errors.. that usually \n",
    "means it's just in a weird format\"\"\"\n",
    "\n",
    "def match_city_to_advisory_details(row):\n",
    "    try:\n",
    "        if re.search('{city}'.format(city = city),row.Advisory) is not None:\n",
    "            row['City_Mapped'] = city\n",
    "        else:\n",
    "            pass\n",
    "    except UnicodeEncodeError:\n",
    "        pass\n",
    "    return row"
   ]
  },
  {
   "cell_type": "code",
   "execution_count": 73,
   "metadata": {
    "collapsed": true
   },
   "outputs": [],
   "source": [
    "\"\"\"This is a for loop that applies the above function to the dataset FOR each unique city in the df_cit.City column\"\"\"\n",
    "\"\"\"to avoid the city Cali being associated with California, create an international and a national df\"\"\"\n",
    "for city in us_city['City'].unique():\n",
    "    adv = adv.apply(lambda row: match_city_to_advisory_details(row), axis = 1)"
   ]
  },
  {
   "cell_type": "code",
   "execution_count": 74,
   "metadata": {
    "collapsed": true
   },
   "outputs": [],
   "source": [
    "for city in int_city['City'].unique():\n",
    "    adv = adv.apply(lambda row: match_city_to_advisory_details(row), axis=1)"
   ]
  },
  {
   "cell_type": "code",
   "execution_count": 75,
   "metadata": {
    "collapsed": true
   },
   "outputs": [],
   "source": [
    "# zero out rows where Cali is the City bc Cali, Columbia should not be mapped to California\n",
    "adv.City = adv.City.str.replace('California',\"\")"
   ]
  },
  {
   "cell_type": "code",
   "execution_count": 76,
   "metadata": {
    "collapsed": true
   },
   "outputs": [],
   "source": [
    "adv.City = adv.City.fillna(adv.City_Mapped)\n",
    "adv.City = adv.City.str.replace('Cali',\"\")\n",
    "#adv.City = adv.City.str.replace('California',\"\")\n",
    "adv.City = adv.City.str.replace('Universal City',\"\")"
   ]
  },
  {
   "cell_type": "code",
   "execution_count": 67,
   "metadata": {
    "collapsed": true
   },
   "outputs": [],
   "source": [
    "#for i in adv.City:\n",
    "#    if adv.City is not None:\n",
    "#        pass\n",
    "#    if adv.Country[i] != \"California\":\n",
    "#        adv.City.fillna(adv.City_Mapped)\n",
    "        "
   ]
  },
  {
   "cell_type": "code",
   "execution_count": 89,
   "metadata": {
    "collapsed": true
   },
   "outputs": [],
   "source": [
    "adv.to_excel('Advisories_101017.xlsx',index=False)"
   ]
  },
  {
   "cell_type": "code",
   "execution_count": null,
   "metadata": {
    "collapsed": true
   },
   "outputs": [],
   "source": [
    "adv = pd.read_excel('Advisories_101217.xlsx')\n",
    "#adv.head()"
   ]
  },
  {
   "cell_type": "code",
   "execution_count": null,
   "metadata": {
    "collapsed": true
   },
   "outputs": [],
   "source": [
    "sorted(adv.City.unique())"
   ]
  },
  {
   "cell_type": "code",
   "execution_count": 84,
   "metadata": {
    "collapsed": true
   },
   "outputs": [],
   "source": [
    "adv.City = adv.City.str.replace('New York City', \"New York\")\n",
    "adv.City = adv.City.str.replace('New York ', \"New York\")"
   ]
  },
  {
   "cell_type": "code",
   "execution_count": 86,
   "metadata": {
    "collapsed": true
   },
   "outputs": [],
   "source": [
    "adv.City = adv.City.str.replace('Washington ', \"Washington D.C.\")"
   ]
  },
  {
   "cell_type": "code",
   "execution_count": 9,
   "metadata": {
    "collapsed": true
   },
   "outputs": [],
   "source": [
    "# fill null values so below map can work\n",
    "adv.City = adv.City.fillna(\"\")\n",
    "# remove any trailing spaces\n",
    "adv.City = adv.City.map(lambda x: x.strip())"
   ]
  },
  {
   "cell_type": "code",
   "execution_count": null,
   "metadata": {
    "collapsed": true
   },
   "outputs": [],
   "source": []
  }
 ],
 "metadata": {
  "kernelspec": {
   "display_name": "Python 2",
   "language": "python",
   "name": "python2"
  },
  "language_info": {
   "codemirror_mode": {
    "name": "ipython",
    "version": 2
   },
   "file_extension": ".py",
   "mimetype": "text/x-python",
   "name": "python",
   "nbconvert_exporter": "python",
   "pygments_lexer": "ipython2",
   "version": "2.7.14"
  }
 },
 "nbformat": 4,
 "nbformat_minor": 2
}
